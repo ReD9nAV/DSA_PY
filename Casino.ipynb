{
  "nbformat": 4,
  "nbformat_minor": 0,
  "metadata": {
    "colab": {
      "provenance": [],
      "authorship_tag": "ABX9TyOHzy6gIuk142dDfP86kGNz",
      "include_colab_link": true
    },
    "kernelspec": {
      "name": "python3",
      "display_name": "Python 3"
    },
    "language_info": {
      "name": "python"
    }
  },
  "cells": [
    {
      "cell_type": "markdown",
      "metadata": {
        "id": "view-in-github",
        "colab_type": "text"
      },
      "source": [
        "<a href=\"https://colab.research.google.com/github/ReD9nAV/DSA_PY/blob/main/Casino.ipynb\" target=\"_parent\"><img src=\"https://colab.research.google.com/assets/colab-badge.svg\" alt=\"Open In Colab\"/></a>"
      ]
    },
    {
      "cell_type": "code",
      "execution_count": 6,
      "metadata": {
        "id": "9qi8sHAc-Y-u",
        "colab": {
          "base_uri": "https://localhost:8080/",
          "height": 458
        },
        "outputId": "75413764-cc2c-47b9-b89f-b02c0cda50d4"
      },
      "outputs": [
        {
          "output_type": "stream",
          "name": "stdout",
          "text": [
            "\n",
            "    MENU:\n",
            "    1 Deposit\n",
            "    2 Deposit and Play\n",
            "    3 Check Balance\n",
            "    4 Cash Out\n",
            "    5 Exit\n"
          ]
        },
        {
          "output_type": "error",
          "ename": "KeyboardInterrupt",
          "evalue": "Interrupted by user",
          "traceback": [
            "\u001b[0;31m---------------------------------------------------------------------------\u001b[0m",
            "\u001b[0;31mKeyboardInterrupt\u001b[0m                         Traceback (most recent call last)",
            "\u001b[0;32m/tmp/ipython-input-1257413752.py\u001b[0m in \u001b[0;36m<cell line: 0>\u001b[0;34m()\u001b[0m\n\u001b[1;32m     89\u001b[0m   \u001b[0;32mreturn\u001b[0m\u001b[0;34m;\u001b[0m\u001b[0;34m\u001b[0m\u001b[0;34m\u001b[0m\u001b[0m\n\u001b[1;32m     90\u001b[0m \u001b[0;32mif\u001b[0m\u001b[0;34m(\u001b[0m\u001b[0m__name__\u001b[0m\u001b[0;34m==\u001b[0m\u001b[0;34m\"__main__\"\u001b[0m\u001b[0;34m)\u001b[0m\u001b[0;34m:\u001b[0m\u001b[0;34m\u001b[0m\u001b[0;34m\u001b[0m\u001b[0m\n\u001b[0;32m---> 91\u001b[0;31m   \u001b[0mmain\u001b[0m\u001b[0;34m(\u001b[0m\u001b[0;34m)\u001b[0m\u001b[0;34m;\u001b[0m\u001b[0;34m\u001b[0m\u001b[0;34m\u001b[0m\u001b[0m\n\u001b[0m",
            "\u001b[0;32m/tmp/ipython-input-1257413752.py\u001b[0m in \u001b[0;36mmain\u001b[0;34m()\u001b[0m\n\u001b[1;32m     86\u001b[0m \u001b[0;34m\u001b[0m\u001b[0m\n\u001b[1;32m     87\u001b[0m \u001b[0;32mdef\u001b[0m \u001b[0mmain\u001b[0m\u001b[0;34m(\u001b[0m\u001b[0;34m)\u001b[0m\u001b[0;34m->\u001b[0m\u001b[0;32mNone\u001b[0m\u001b[0;34m:\u001b[0m\u001b[0;34m\u001b[0m\u001b[0;34m\u001b[0m\u001b[0m\n\u001b[0;32m---> 88\u001b[0;31m   \u001b[0mmyGamblingStation\u001b[0m\u001b[0;34m:\u001b[0m\u001b[0mCASINO\u001b[0m\u001b[0;34m=\u001b[0m\u001b[0mCASINO\u001b[0m\u001b[0;34m(\u001b[0m\u001b[0;34m)\u001b[0m\u001b[0;34m;\u001b[0m\u001b[0;34m\u001b[0m\u001b[0;34m\u001b[0m\u001b[0m\n\u001b[0m\u001b[1;32m     89\u001b[0m   \u001b[0;32mreturn\u001b[0m\u001b[0;34m;\u001b[0m\u001b[0;34m\u001b[0m\u001b[0;34m\u001b[0m\u001b[0m\n\u001b[1;32m     90\u001b[0m \u001b[0;32mif\u001b[0m\u001b[0;34m(\u001b[0m\u001b[0m__name__\u001b[0m\u001b[0;34m==\u001b[0m\u001b[0;34m\"__main__\"\u001b[0m\u001b[0;34m)\u001b[0m\u001b[0;34m:\u001b[0m\u001b[0;34m\u001b[0m\u001b[0;34m\u001b[0m\u001b[0m\n",
            "\u001b[0;32m/tmp/ipython-input-1257413752.py\u001b[0m in \u001b[0;36m__init__\u001b[0;34m(self)\u001b[0m\n\u001b[1;32m      7\u001b[0m     \u001b[0;32mwhile\u001b[0m \u001b[0;32mTrue\u001b[0m\u001b[0;34m:\u001b[0m\u001b[0;34m\u001b[0m\u001b[0;34m\u001b[0m\u001b[0m\n\u001b[1;32m      8\u001b[0m       \u001b[0mprint\u001b[0m\u001b[0;34m(\u001b[0m\u001b[0mself\u001b[0m\u001b[0;34m.\u001b[0m\u001b[0mmenue\u001b[0m\u001b[0;34m(\u001b[0m\u001b[0;34m)\u001b[0m\u001b[0;34m)\u001b[0m\u001b[0;34m\u001b[0m\u001b[0;34m\u001b[0m\u001b[0m\n\u001b[0;32m----> 9\u001b[0;31m       \u001b[0mself\u001b[0m\u001b[0;34m.\u001b[0m\u001b[0mchoice\u001b[0m\u001b[0;34m=\u001b[0m\u001b[0minput\u001b[0m\u001b[0;34m(\u001b[0m\u001b[0;34m\"Enter your choice:\"\u001b[0m\u001b[0;34m)\u001b[0m\u001b[0;34m\u001b[0m\u001b[0;34m\u001b[0m\u001b[0m\n\u001b[0m\u001b[1;32m     10\u001b[0m       \u001b[0;32mif\u001b[0m\u001b[0;34m(\u001b[0m\u001b[0mself\u001b[0m\u001b[0;34m.\u001b[0m\u001b[0mchoice\u001b[0m\u001b[0;34m.\u001b[0m\u001b[0misdigit\u001b[0m\u001b[0;34m(\u001b[0m\u001b[0;34m)\u001b[0m\u001b[0;34m)\u001b[0m\u001b[0;34m:\u001b[0m\u001b[0;34m\u001b[0m\u001b[0;34m\u001b[0m\u001b[0m\n\u001b[1;32m     11\u001b[0m         \u001b[0mself\u001b[0m\u001b[0;34m.\u001b[0m\u001b[0mchoice\u001b[0m\u001b[0;34m=\u001b[0m\u001b[0mint\u001b[0m\u001b[0;34m(\u001b[0m\u001b[0mself\u001b[0m\u001b[0;34m.\u001b[0m\u001b[0mchoice\u001b[0m\u001b[0;34m)\u001b[0m\u001b[0;34m;\u001b[0m\u001b[0;34m\u001b[0m\u001b[0;34m\u001b[0m\u001b[0m\n",
            "\u001b[0;32m/usr/local/lib/python3.11/dist-packages/ipykernel/kernelbase.py\u001b[0m in \u001b[0;36mraw_input\u001b[0;34m(self, prompt)\u001b[0m\n\u001b[1;32m   1175\u001b[0m                 \u001b[0;34m\"raw_input was called, but this frontend does not support input requests.\"\u001b[0m\u001b[0;34m\u001b[0m\u001b[0;34m\u001b[0m\u001b[0m\n\u001b[1;32m   1176\u001b[0m             )\n\u001b[0;32m-> 1177\u001b[0;31m         return self._input_request(\n\u001b[0m\u001b[1;32m   1178\u001b[0m             \u001b[0mstr\u001b[0m\u001b[0;34m(\u001b[0m\u001b[0mprompt\u001b[0m\u001b[0;34m)\u001b[0m\u001b[0;34m,\u001b[0m\u001b[0;34m\u001b[0m\u001b[0;34m\u001b[0m\u001b[0m\n\u001b[1;32m   1179\u001b[0m             \u001b[0mself\u001b[0m\u001b[0;34m.\u001b[0m\u001b[0m_parent_ident\u001b[0m\u001b[0;34m[\u001b[0m\u001b[0;34m\"shell\"\u001b[0m\u001b[0;34m]\u001b[0m\u001b[0;34m,\u001b[0m\u001b[0;34m\u001b[0m\u001b[0;34m\u001b[0m\u001b[0m\n",
            "\u001b[0;32m/usr/local/lib/python3.11/dist-packages/ipykernel/kernelbase.py\u001b[0m in \u001b[0;36m_input_request\u001b[0;34m(self, prompt, ident, parent, password)\u001b[0m\n\u001b[1;32m   1217\u001b[0m             \u001b[0;32mexcept\u001b[0m \u001b[0mKeyboardInterrupt\u001b[0m\u001b[0;34m:\u001b[0m\u001b[0;34m\u001b[0m\u001b[0;34m\u001b[0m\u001b[0m\n\u001b[1;32m   1218\u001b[0m                 \u001b[0;31m# re-raise KeyboardInterrupt, to truncate traceback\u001b[0m\u001b[0;34m\u001b[0m\u001b[0;34m\u001b[0m\u001b[0m\n\u001b[0;32m-> 1219\u001b[0;31m                 \u001b[0;32mraise\u001b[0m \u001b[0mKeyboardInterrupt\u001b[0m\u001b[0;34m(\u001b[0m\u001b[0;34m\"Interrupted by user\"\u001b[0m\u001b[0;34m)\u001b[0m \u001b[0;32mfrom\u001b[0m \u001b[0;32mNone\u001b[0m\u001b[0;34m\u001b[0m\u001b[0;34m\u001b[0m\u001b[0m\n\u001b[0m\u001b[1;32m   1220\u001b[0m             \u001b[0;32mexcept\u001b[0m \u001b[0mException\u001b[0m\u001b[0;34m:\u001b[0m\u001b[0;34m\u001b[0m\u001b[0;34m\u001b[0m\u001b[0m\n\u001b[1;32m   1221\u001b[0m                 \u001b[0mself\u001b[0m\u001b[0;34m.\u001b[0m\u001b[0mlog\u001b[0m\u001b[0;34m.\u001b[0m\u001b[0mwarning\u001b[0m\u001b[0;34m(\u001b[0m\u001b[0;34m\"Invalid Message:\"\u001b[0m\u001b[0;34m,\u001b[0m \u001b[0mexc_info\u001b[0m\u001b[0;34m=\u001b[0m\u001b[0;32mTrue\u001b[0m\u001b[0;34m)\u001b[0m\u001b[0;34m\u001b[0m\u001b[0;34m\u001b[0m\u001b[0m\n",
            "\u001b[0;31mKeyboardInterrupt\u001b[0m: Interrupted by user"
          ]
        }
      ],
      "source": [
        "import random;\n",
        "class CASINO:\n",
        "  def __init__(self:\"CASINO\")->None:\n",
        "    self.balance:int=0;\n",
        "    self.amount:int=0;\n",
        "    self.choice:int=0;\n",
        "    while True:\n",
        "      print(self.menue())\n",
        "      self.choice=input(\"Enter your choice:\")\n",
        "      if(self.choice.isdigit()):\n",
        "        self.choice=int(self.choice);\n",
        "        while True:\n",
        "          match(self.choice):\n",
        "            case 1:\n",
        "              print(\"You choose to deposit (in rupees)\");\n",
        "              self.deposit();\n",
        "              break;\n",
        "            case 2:\n",
        "              print(\"You choose to deposit and play\");\n",
        "              self.deposit();\n",
        "              self.play();\n",
        "              break;\n",
        "            case 3:\n",
        "              print(f\"You choose to check balance\\nYour balance is:{self.checkBalance()} rupees\");\n",
        "              break;\n",
        "            case 4:\n",
        "              print(f\"You choose to cash out\\nTake {self.cashout()} rupees\");\n",
        "              break;\n",
        "            case 5:\n",
        "              print(\"Bye :)\");\n",
        "              return;\n",
        "            case _:\n",
        "              print(\"Enter a valid choice!\");\n",
        "              break;\n",
        "        else:\n",
        "          print(\"Enter a valid choice!\")\n",
        "    return;\n",
        "\n",
        "  def deposit(self:\"CASINO\")->None:\n",
        "    while True:\n",
        "      self.amount:int=input(\"Enter the amount to deposit to start gambling: \");\n",
        "      if(self.amount.isdigit()):\n",
        "        self.balance+=int(self.amount);\n",
        "        print(\"Done depositing \");\n",
        "        break;\n",
        "      else:\n",
        "        print(\"enter a valid number:\")\n",
        "    return;\n",
        "\n",
        "  def checkBalance(self:\"CASINO\")->int:\n",
        "    return self.balance;\n",
        "\n",
        "  def play(self)->None:\n",
        "    self.gamblersChoise:str=\"\";\n",
        "    self.status:bool=True;\n",
        "    while(self.status):\n",
        "      self.gamblersChoise=input(\"\"\"Enter your choise\n",
        "      apple\n",
        "      banana\n",
        "      orange\"\"\")\n",
        "      li:list[str]=[\"apple\",\"banana\",\"orange\"];\n",
        "      self.pick1:str=li[random.randint(1,2)];\n",
        "      self.pick2:str=li[random.randint(1,2)];\n",
        "      self.pick3:str=li[random.randint(1,2)];\n",
        "      if(self.pick1==self.pick2==self.pick3==self.gamblersChoise):\n",
        "        print(f\"\"\"\n",
        "        ___________________YOU WON!!!!!!!!!!!!!!!!___________________\n",
        "        {self.pick1}||{self.pick2}||{self.pick3}=={self.gamblersChoise}\"\"\");\n",
        "        self.status=input(\"Do you want to keep playing (True/False):\");\n",
        "        if(self.status):\n",
        "          break;\n",
        "        else:\n",
        "          return;\n",
        "      else:\n",
        "        print(f\"\"\"your choise was\n",
        "        {self.pick1}||{self.pick2}||{self.pick3}=={self.gamblersChoise}\n",
        "                  don't give up yet,\n",
        "                  According to professional gamblers 90% of gamblers quit before their big win.\n",
        "                  Keep going....\n",
        "                  TONOGHT MIGHT JUST BE YOUR NIGHT.\"\"\");\n",
        "        if(self.status):\n",
        "          break;\n",
        "        else:\n",
        "          return;\n",
        "\n",
        "  def cashout(self:\"CASINO\")->int:\n",
        "    if(self.balance>=0):\n",
        "      self.tempbal:int=self.balance\n",
        "      self.balance-=self.balance;\n",
        "      return self.tempbal;\n",
        "    else:\n",
        "      print(\"You should have amount in your account to cash out!\");\n",
        "      return -1;\n",
        "\n",
        "  def menue(self:\"CASINO\")->str:\n",
        "    return(\"\"\"\n",
        "    MENU:\n",
        "    1 Deposit\n",
        "    2 Deposit and Play\n",
        "    3 Check Balance\n",
        "    4 Cash Out\n",
        "    5 Exit\"\"\");\n",
        "\n",
        "def main()->None:\n",
        "  myGamblingStation:CASINO=CASINO();\n",
        "  return;\n",
        "if(__name__==\"__main__\"):\n",
        "  main();"
      ]
    },
    {
      "cell_type": "code",
      "source": [],
      "metadata": {
        "id": "p3s95SODZRvp"
      },
      "execution_count": null,
      "outputs": []
    }
  ]
}