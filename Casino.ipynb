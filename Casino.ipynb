{
  "nbformat": 4,
  "nbformat_minor": 0,
  "metadata": {
    "colab": {
      "provenance": [],
      "authorship_tag": "ABX9TyMpmdKU5xDCu/Jl2q3p+KkW",
      "include_colab_link": true
    },
    "kernelspec": {
      "name": "python3",
      "display_name": "Python 3"
    },
    "language_info": {
      "name": "python"
    }
  },
  "cells": [
    {
      "cell_type": "markdown",
      "metadata": {
        "id": "view-in-github",
        "colab_type": "text"
      },
      "source": [
        "<a href=\"https://colab.research.google.com/github/ReD9nAV/DSA_PY/blob/main/Casino.ipynb\" target=\"_parent\"><img src=\"https://colab.research.google.com/assets/colab-badge.svg\" alt=\"Open In Colab\"/></a>"
      ]
    },
    {
      "cell_type": "code",
      "execution_count": 3,
      "metadata": {
        "id": "9qi8sHAc-Y-u",
        "colab": {
          "base_uri": "https://localhost:8080/"
        },
        "outputId": "b2ba5880-1d0a-448b-d9c9-d4059c26e355"
      },
      "outputs": [
        {
          "output_type": "stream",
          "name": "stdout",
          "text": [
            "\n",
            "    MENU:\n",
            "    1 Deposit\n",
            "    2 Deposit and Play\n",
            "    3 Check Balance\n",
            "    4 Cash Out\n",
            "    5 Exit\n",
            "Enter your choice:5\n",
            "Bye :)\n"
          ]
        }
      ],
      "source": [
        "class CASINO:\n",
        "  def __init__(self):\n",
        "    self.balance=0;\n",
        "    self.amount=0;\n",
        "    self.choice=0;\n",
        "    while True:\n",
        "      print(self.menue())\n",
        "      self.choice=input(\"Enter your choice:\")\n",
        "      if(self.choice.isdigit()):\n",
        "        self.choice=int(self.choice);\n",
        "        while True:\n",
        "          match(self.choice):\n",
        "            case 1:\n",
        "              print(\"You choose to deposit (in rupees)\");\n",
        "              self.deposit();\n",
        "              break;\n",
        "            case 2:\n",
        "              print(\"You choose to deposit and play\");\n",
        "              self.deposit();\n",
        "\n",
        "\n",
        "            case 3:\n",
        "              print(f\"You choose to check balance\\nYour balance is:{self.checkBalance()} rupees\");\n",
        "              break;\n",
        "            case 4:\n",
        "              print(f\"You choose to cash out\\nTake {self.cashout()} rupees\");\n",
        "              break;\n",
        "            case 5:\n",
        "              print(\"Bye :)\");\n",
        "              return;\n",
        "            case _:\n",
        "              print(\"Enter a valid choice!\");\n",
        "              break;\n",
        "        else:\n",
        "          print(\"Enter a valid choice!\")\n",
        "\n",
        "  def deposit(self):\n",
        "    while True:\n",
        "      self.amount=input(\"Enter the amount to deposit to start gambling: \");\n",
        "      if(self.amount.isdigit()):\n",
        "        self.balance+=int(self.amount);\n",
        "        print(\"Done depositing \");\n",
        "        break;\n",
        "      else:\n",
        "        print(\"enter a valid number:\")\n",
        "\n",
        "  def checkBalance(self)->int:\n",
        "    return self.balance;\n",
        "\n",
        "\n",
        "  def cashout(self)->int:\n",
        "    if(self.balance>=0):\n",
        "      self.tempbal:int=self.balance\n",
        "      self.balance-=self.balance;\n",
        "      return self.tempbal;\n",
        "    else:\n",
        "      print(\"You should have amount in your account to cash out!\");\n",
        "      return -1;\n",
        "\n",
        "  def menue(self)->str:\n",
        "    return(\"\"\"\n",
        "    MENU:\n",
        "    1 Deposit\n",
        "    2 Deposit and Play\n",
        "    3 Check Balance\n",
        "    4 Cash Out\n",
        "    5 Exit\"\"\");\n",
        "\n",
        "def main()->None:\n",
        "  gamblingStation:CASINO=CASINO();\n",
        "  return;\n",
        "if(__name__==\"__main__\"):\n",
        "  main();"
      ]
    }
  ]
}