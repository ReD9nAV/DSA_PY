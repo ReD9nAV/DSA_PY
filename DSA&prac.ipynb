{
  "cells": [
    {
      "cell_type": "markdown",
      "metadata": {
        "id": "view-in-github",
        "colab_type": "text"
      },
      "source": [
        "<a href=\"https://colab.research.google.com/github/ReD9nAV/DSA_PY/blob/main/DSA%26prac.ipynb\" target=\"_parent\"><img src=\"https://colab.research.google.com/assets/colab-badge.svg\" alt=\"Open In Colab\"/></a>"
      ]
    },
    {
      "cell_type": "code",
      "execution_count": null,
      "metadata": {
        "id": "lIYdn1woOS1n"
      },
      "outputs": [],
      "source": [
        "def tempConver()->float:\n",
        "  choice:int=int(input(\"enter 1 for c->f 2 for f->c: \"));\n",
        "  match choice:\n",
        "    case 1:\n",
        "      temp:float=int(input(\"enter temp in c: \"));\n",
        "\n",
        "    case 2:\n",
        "      temp:float=int(input(\"enter temp in f: \"));\n",
        "      return ((5/9)*(temp-32));\n",
        "    case _:\n",
        "      return 0.0;"
      ]
    },
    {
      "cell_type": "code",
      "source": [
        "import time;\n",
        "def fact(n:int=0)->int:\n",
        "  if(n==0 or n==1):\n",
        "    return 1;\n",
        "  else:\n",
        "    return n*fact(n-1);"
      ],
      "metadata": {
        "id": "yYToc2ZVGZkm"
      },
      "execution_count": null,
      "outputs": []
    },
    {
      "cell_type": "code",
      "source": [
        "def main()->None:\n",
        "  l1:list[int]=[1,2,3];\n",
        "  l2:list[int]=[4,5,6];\n",
        "  print(\n",
        "      list(\n",
        "          filter(\n",
        "              lambda x:x%2!=0,\n",
        "              map(\n",
        "                  lambda x,y:x+y,l1,l2\n",
        "              )\n",
        "          )\n",
        "      )\n",
        "  )\n",
        "  return;\n",
        "if(__name__==\"__main__\"):\n",
        "  main();"
      ],
      "metadata": {
        "colab": {
          "base_uri": "https://localhost:8080/"
        },
        "id": "4lj05uMtrALC",
        "outputId": "b91f0bef-bedf-4183-8fc8-9d8d6c820187"
      },
      "execution_count": null,
      "outputs": [
        {
          "output_type": "stream",
          "name": "stdout",
          "text": [
            "[5, 7, 9]\n"
          ]
        }
      ]
    },
    {
      "cell_type": "code",
      "source": [
        "def generate_square(n:int=0)->list[str]:\n",
        "  retli:list[str]=[];\n",
        "  for i in range(n):\n",
        "      retli.append('*'*n);\n",
        "  return retli\n",
        "\n",
        "def main()->None:\n",
        "  print(generate_square(3));\n",
        "  l=[];\n",
        "  print(len(l))\n",
        "  m=max(l)\n",
        "  l=min(l);\n",
        "  print(m-l)\n",
        "  return;\n",
        "if(__name__==\"__main__\"):\n",
        "  main();"
      ],
      "metadata": {
        "id": "9B-7-1Ze2up6"
      },
      "execution_count": null,
      "outputs": []
    },
    {
      "cell_type": "markdown",
      "source": [],
      "metadata": {
        "id": "MEi9SgR_zRYB"
      }
    },
    {
      "cell_type": "code",
      "source": [
        "def max_cons_diff(arr:list[int])->int:\n",
        "  maxdiff:int=0;\n",
        "  if(len(arr)<2):\n",
        "    return 0;\n",
        "  for i in range(1,len(arr)):\n",
        "    if(abs(arr[i-1]-arr[i])>maxdiff):\n",
        "      maxdiff=abs(arr[i-1]-arr[i]);\n",
        "  return maxdiff;\n",
        "\n",
        "def main():\n",
        "  li:list[int]=[1, 7, 3, 10, 5];\n",
        "  print(sorted(li))\n",
        "  return;\n",
        "if(__name__==\"__main__\"):\n",
        "  main();"
      ],
      "metadata": {
        "colab": {
          "base_uri": "https://localhost:8080/"
        },
        "id": "-qn0TkaBzSJF",
        "outputId": "d26a7bbc-070c-4a6c-8398-6b74d71bfde0"
      },
      "execution_count": null,
      "outputs": [
        {
          "output_type": "stream",
          "name": "stdout",
          "text": [
            "[1, 3, 5, 7, 10]\n"
          ]
        }
      ]
    },
    {
      "cell_type": "code",
      "source": [
        "def d(n:int=0)->str:\n",
        "  d:str=int(n,2)\n",
        "  return d;\n",
        "\n",
        "def main()->None:\n",
        "  print(d('-10'));\n",
        "  return;\n",
        "if(__name__==\"__main__\"):\n",
        "  main();"
      ],
      "metadata": {
        "id": "ZGLNA-q_6piZ",
        "colab": {
          "base_uri": "https://localhost:8080/"
        },
        "outputId": "5f79c48a-dad9-44b3-afaf-ad893de5e64f"
      },
      "execution_count": null,
      "outputs": [
        {
          "output_type": "stream",
          "name": "stdout",
          "text": [
            "-2\n"
          ]
        }
      ]
    },
    {
      "cell_type": "code",
      "source": [
        "def lameGCD(a:int=0,b:int=0)->int:\n",
        "  a=abs(a);b=abs(b);\n",
        "  while(a!=0 and b!=0):\n",
        "    if(a>b):\n",
        "      a%=b;\n",
        "    elif(b>a):\n",
        "      b%=a;\n",
        "    elif(a==b):\n",
        "      return a;\n",
        "  return max(a,b);\n",
        "def main()->None:\n",
        "  print(lameGCD(-1,10));\n",
        "  return;\n",
        "if(__name__==\"__main__\"):\n",
        "  main();"
      ],
      "metadata": {
        "colab": {
          "base_uri": "https://localhost:8080/"
        },
        "id": "EMMFpmD9uLl-",
        "outputId": "a4ff9e49-c584-41b2-fc76-9ce70611b56d"
      },
      "execution_count": null,
      "outputs": [
        {
          "output_type": "stream",
          "name": "stdout",
          "text": [
            "1\n"
          ]
        }
      ]
    },
    {
      "cell_type": "code",
      "source": [
        "import math;\n",
        "def rev(s:str=\"\")->str:\n",
        "  return s[-1::-1];\n",
        "def isprime(n:int=0)->bool:\n",
        "  for i in range(2,int(math.sqrt(n))+1):\n",
        "        if(n%i==0):\n",
        "            return False;\n",
        "  return True;\n",
        "\n",
        "\n",
        "def rotate_list(lst:list[int]=[],k:int=0)->list[int]:\n",
        "  templi:list[int]=[];\n",
        "  if(k<=0):\n",
        "    return lst;\n",
        "  for i in range(k):\n",
        "    templi.append(lst.pop());\n",
        "  templi.reverse()\n",
        "  return templi+lst;\n",
        "\n",
        "def main()->None:\n",
        "  l:list[int]=[1,3,4,5,7];\n",
        "  print(rotate_list(l,2))\n",
        "  return;\n",
        "if(__name__==\"__main__\"):\n",
        "  main();"
      ],
      "metadata": {
        "colab": {
          "base_uri": "https://localhost:8080/"
        },
        "id": "Ol_3G_SiAOrk",
        "outputId": "2875dadb-25ad-4dae-cc32-19586f40cdbf"
      },
      "execution_count": null,
      "outputs": [
        {
          "output_type": "stream",
          "name": "stdout",
          "text": [
            "[5, 7, 1, 3, 4]\n"
          ]
        }
      ]
    },
    {
      "cell_type": "markdown",
      "source": [],
      "metadata": {
        "id": "-mGrV01Ebyqr"
      }
    },
    {
      "cell_type": "code",
      "source": [
        "def binsearch(arr:list[int]=[],target:int=0)->int:\n",
        "  print(f\"given list: {arr}\\nsorted list: {bubblesort(arr)}\");\n",
        "  low:int=0;\n",
        "  high:int=len(arr)-1;\n",
        "  while(low<=high):\n",
        "    mid:int=(low+high)//2;\n",
        "    if(arr[mid]==target):\n",
        "      return mid;\n",
        "    elif(arr[mid]<target):\n",
        "      low=mid+1;\n",
        "    elif(arr[mid]>target):\n",
        "      high=mid-1;\n",
        "    else:\n",
        "      return -1;\n",
        "\n",
        "def main()->None:\n",
        "  li:list[int]=[23,45,78,457,657,98];\n",
        "  print(f\"elemebt found at: {binsearch(li,657)}\");\n",
        "  return;\n",
        "if(__name__==\"__main__\"):\n",
        "  main();"
      ],
      "metadata": {
        "colab": {
          "base_uri": "https://localhost:8080/"
        },
        "id": "vPlX6ZimbzlK",
        "outputId": "2565fc49-1fb0-4a5b-b807-a3554fd91d9e"
      },
      "execution_count": null,
      "outputs": [
        {
          "output_type": "stream",
          "name": "stdout",
          "text": [
            "given list: [23, 45, 78, 457, 657, 98]\n",
            "sorted list: [23, 45, 78, 98, 457, 657]\n",
            "elemebt found at: 5\n"
          ]
        }
      ]
    },
    {
      "cell_type": "code",
      "source": [
        "def bubblesort(arr:list[int]=[])->list[int]:\n",
        "  for i in range(len(arr)):\n",
        "    for j in range(1,len(arr)-i):\n",
        "      if(arr[j-1]>arr[j]):\n",
        "        arr[j - 1], arr[j] = arr[j], arr[j - 1]\n",
        "  return arr;\n",
        "def main()->None:\n",
        "  li:list[int]=[6,5,4,3,2,1];\n",
        "  print(bubblesort(li));\n",
        "  return;\n",
        "if(__name__==\"__main__\"):\n",
        "  main();"
      ],
      "metadata": {
        "id": "nDqVTNonhF1k",
        "colab": {
          "base_uri": "https://localhost:8080/"
        },
        "outputId": "5d843474-6d06-43cb-e7ca-845ef5080095"
      },
      "execution_count": null,
      "outputs": [
        {
          "output_type": "stream",
          "name": "stdout",
          "text": [
            "[1, 2, 3, 4, 5, 6]\n"
          ]
        }
      ]
    },
    {
      "cell_type": "code",
      "source": [
        "def selectionSort(arr:list[int]=[])->list[int]:\n",
        "  for i in range(len(arr)):\n",
        "    minind:int=i;\n",
        "    for j in range(i+1,len(arr)):\n",
        "      if(arr[j]<arr[minind]):\n",
        "        minind=j\n",
        "    arr[i],arr[minind]=arr[minind],arr[i]\n",
        "  return arr;\n",
        "def main()->None:\n",
        "  li:list[int]=[6,5,7,8,56];\n",
        "  print(selectionSort(li));\n",
        "  return;\n",
        "if(__name__==\"__main__\"):\n",
        "  main();"
      ],
      "metadata": {
        "colab": {
          "base_uri": "https://localhost:8080/"
        },
        "id": "dtyOzav9q4zK",
        "outputId": "de3de9f0-5ca1-4366-b39e-26ce06284a03"
      },
      "execution_count": 13,
      "outputs": [
        {
          "output_type": "stream",
          "name": "stdout",
          "text": [
            "[5, 6, 7, 8, 56]\n"
          ]
        }
      ]
    },
    {
      "cell_type": "code",
      "source": [
        "def insersionSort(arr:list[int])->list[int]:\n",
        "\n",
        "  return arr;\n",
        "def main()->None:\n",
        "\n",
        "  return;\n",
        "if(__name__==\"__main__\"):\n",
        "  main();"
      ],
      "metadata": {
        "id": "OkRtzWWOcb12"
      },
      "execution_count": null,
      "outputs": []
    }
  ],
  "metadata": {
    "colab": {
      "provenance": [],
      "include_colab_link": true
    },
    "kernelspec": {
      "display_name": "Python 3",
      "name": "python3"
    }
  },
  "nbformat": 4,
  "nbformat_minor": 0
}