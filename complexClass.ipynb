{
  "nbformat": 4,
  "nbformat_minor": 0,
  "metadata": {
    "colab": {
      "provenance": [],
      "authorship_tag": "ABX9TyO9cOW37FW/m3Zuv6jkV9Oa",
      "include_colab_link": true
    },
    "kernelspec": {
      "name": "python3",
      "display_name": "Python 3"
    },
    "language_info": {
      "name": "python"
    }
  },
  "cells": [
    {
      "cell_type": "markdown",
      "metadata": {
        "id": "view-in-github",
        "colab_type": "text"
      },
      "source": [
        "<a href=\"https://colab.research.google.com/github/ReD9nAV/DSA_PY/blob/main/complexClass.ipynb\" target=\"_parent\"><img src=\"https://colab.research.google.com/assets/colab-badge.svg\" alt=\"Open In Colab\"/></a>"
      ]
    },
    {
      "cell_type": "code",
      "source": [
        "cnsample1=complex(2,3);\n",
        "cnsample2=complex(4,5);\n",
        "print(cnsample1);\n",
        "print(cnsample2);\n",
        "print(cnsample1+cnsample2,\"\\t\",cnsample1-cnsample2,\"\\t\",cnsample1*cnsample1);\n",
        "print(cnsample1);\n",
        "print(cnsample2);\n",
        "print(cnsample1*cnsample2);\n",
        "# print(cnsample.conjugate());\n",
        "# print(cnsample.imag);"
      ],
      "metadata": {
        "colab": {
          "base_uri": "https://localhost:8080/"
        },
        "id": "iPGofyP9zlV0",
        "outputId": "fca95f12-ebe2-4e43-e20e-3b6b99e83497"
      },
      "execution_count": null,
      "outputs": [
        {
          "output_type": "stream",
          "name": "stdout",
          "text": [
            "(2+3j)\n",
            "(4+5j)\n",
            "(6+8j) \t (-2-2j) \t (-5+12j)\n",
            "(2+3j)\n",
            "(4+5j)\n",
            "(-7+22j)\n"
          ]
        }
      ]
    },
    {
      "cell_type": "code",
      "source": [
        "class ComplexNumber:\n",
        "  def __init__(self,re=0,im=0):\n",
        "    self.re=re;\n",
        "    self.im=im;\n",
        "\n",
        "  def __str__(self):\n",
        "    if(self.re==0):\n",
        "      return f\"{self.im}i\";\n",
        "    elif(self.im==0):\n",
        "      return f\"{float(self.re)}\";\n",
        "    elif(self.im>0):\n",
        "      return f\"({self.re}+{self.im}i)\";\n",
        "    else:\n",
        "      return f\"({self.re}{self.im}i)\";\n",
        "\n",
        "  def real(self):\n",
        "    return f\"{float(self.re)}\";\n",
        "\n",
        "  def imaginary(self):\n",
        "    return f\"{self.im}i\";\n",
        "\n",
        "  def conjugate(self):\n",
        "    dupim=self.im;\n",
        "    if(dupim>0):\n",
        "      return f\"({self.re}{-1*dupim}i)\";\n",
        "    else:\n",
        "      dupim*=-1;\n",
        "      return f\"({self.re}+{dupim}i)\";\n",
        "\n",
        "  def __add__(self,self2):\n",
        "    resre=self.re+self2.re;\n",
        "    resim=self.im+self2.im;\n",
        "    return ComplexNumber(resre,resim);\n",
        "\n",
        "  def __sub__(self,self2):\n",
        "    resre=self.re-self2.re;\n",
        "    resim=self.im-self2.im;\n",
        "    return ComplexNumber(resre,resim);\n",
        "\n",
        "  def __mul__(self,self2):\n",
        "    realres=self.re*self2.im-self.im*self2.im;\n",
        "    imgres=self.re*self2.im+self2.re*self.im;\n",
        "    return ComplexNumber(realres,imgres);\n",
        "\n",
        "  def __truediv__(self,self2):\n",
        "    print(\"Hello\");\n",
        "\n",
        "  def __eq__(self,self2):\n",
        "    return (self.re==self2.re)and(self.im==self2.im);\n",
        "\n",
        "def main():\n",
        "  cn1=ComplexNumber(3,4);\n",
        "  cn2=ComplexNumber(3,-4);\n",
        "  print(cn1);\n",
        "  print(cn1.real());\n",
        "  print(cn1.imaginary());\n",
        "  print(cn1.conjugate());\n",
        "  print(cn1+cn2);\n",
        "  print(cn1-cn2);\n",
        "  print(cn1*cn2);\n",
        "  print(cn1/cn2);\n",
        "  print(cn1==cn2);\n",
        "  return;\n",
        "main();"
      ],
      "metadata": {
        "id": "HlC2cTLY7tep"
      },
      "execution_count": null,
      "outputs": []
    },
    {
      "cell_type": "code",
      "source": [
        "class ATM:\n",
        "    def __int__(self):\n",
        "        self.__pin=None;\n",
        "        self.balance=0;\n",
        "        self.deposit=0;\n",
        "        self.__withdraw=0;\n",
        "        self.sw=None;\n",
        "        if(self.__pin==None):\n",
        "            print(\"Please set a pin to continue:\");\n",
        "            self.__pin=int(input(\"\"));\n",
        "        self.menue();\n",
        "\n",
        "    def menue(self):\n",
        "        print(\"\"\"\n",
        "        what would you like to do?:\n",
        "        1 balance\n",
        "        2 deposit\n",
        "        3 setpin\n",
        "        4 withdraw\n",
        "        5 exit\"\"\");\n",
        "        self.sw=input(\"\");\n",
        "\n",
        "    def __auth(self):\n",
        "        otp = input(\"Enter youe OTP sent to your RMN:\");\n",
        "        if (otp == otp):\n",
        "            return True;\n",
        "\n",
        "    def __setPin(self):\n",
        "        if(self.__auth()):\n",
        "            self.pin = input(\"validation successful\\nenter your new pin:\");\n",
        "\n",
        "    def showBalance(self):\n",
        "        return self.balance;\n",
        "\n",
        "    def depositMoney(self):\n",
        "        amount=int(input(\"enter the deposit amount:\"));\n",
        "        if(self.__auth()):\n",
        "            self.balance+=amount;\n",
        "\n",
        "    def withdrawMoney(self):\n",
        "        amount = int(input(\"enter the withdraw amount:\"));\n",
        "        if (amount > self.balance):\n",
        "            print(\"Invalid amount>self.balance\");\n",
        "        elif(self.__auth()):\n",
        "            print(f\"Take the sum of:{amount}\");\n",
        "            self.balance -= amount;\n",
        "\n",
        "\n",
        "def main():\n",
        "    sbi=ATM();\n",
        "\n",
        "    return;\n",
        "main();"
      ],
      "metadata": {
        "id": "SFyPccqwFhUS"
      },
      "execution_count": null,
      "outputs": []
    }
  ]
}