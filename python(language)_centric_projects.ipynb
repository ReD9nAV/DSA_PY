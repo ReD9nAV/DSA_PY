{
  "nbformat": 4,
  "nbformat_minor": 0,
  "metadata": {
    "colab": {
      "provenance": [],
      "authorship_tag": "ABX9TyNDbwp8A/pVvgpQojcj5toh",
      "include_colab_link": true
    },
    "kernelspec": {
      "name": "python3",
      "display_name": "Python 3"
    },
    "language_info": {
      "name": "python"
    }
  },
  "cells": [
    {
      "cell_type": "markdown",
      "metadata": {
        "id": "view-in-github",
        "colab_type": "text"
      },
      "source": [
        "<a href=\"https://colab.research.google.com/github/ReD9nAV/DSA_PY/blob/main/python(language)_centric_projects.ipynb\" target=\"_parent\"><img src=\"https://colab.research.google.com/assets/colab-badge.svg\" alt=\"Open In Colab\"/></a>"
      ]
    },
    {
      "cell_type": "markdown",
      "source": [
        "#**Gaming Station**"
      ],
      "metadata": {
        "id": "n0s-GmDLg3ED"
      }
    },
    {
      "cell_type": "code",
      "execution_count": null,
      "metadata": {
        "colab": {
          "base_uri": "https://localhost:8080/"
        },
        "id": "5tOacTLmWuXI",
        "outputId": "486879cb-0c81-43f9-a658-25694a1cc2d0"
      },
      "outputs": [
        {
          "output_type": "stream",
          "name": "stdout",
          "text": [
            "which game you wnat to play\n",
            "              1 Guessing Game\n",
            "              2 Rock Paper scissor: 2\n",
            "\n",
            "      You choose RPS.\n",
            "      Pick any one of avalable options\n",
            "      r=rock\n",
            "      p=paper\n",
            "      s=scissor\n",
            "      r\n",
            "Your choice is r computer's pick is p try again\n"
          ]
        }
      ],
      "source": [
        "import random;\n",
        "def machineChoice(lowerBound:int=0,upperBound:int=0)->int:\n",
        "  return random.randint(lowerBound,upperBound);\n",
        "\n",
        "def RPSChoise()->str:\n",
        "  options:list[str]=[\"r\",\"p\",\"s\"];\n",
        "  return options[random.randint(0,2)];\n",
        "\n",
        "def main()->None:\n",
        "\n",
        "  pick:int=int(input(\"\"\"which game you wnat to play\n",
        "              1 Guessing Game\n",
        "              2 Rock Paper scissor: \"\"\"));\n",
        "\n",
        "  match(pick):\n",
        "    case 1:\n",
        "      print(\"\"\"\n",
        "      You choose Gusessing Game.\n",
        "      Enter the upper and lower bounds to continue.\"\"\");\n",
        "      lowerBound:int=int(input(\"Lower bound: \"));\n",
        "      upperBound:int=int(input(\"Upper bound: \"));\n",
        "      userChoice:int=int(input(f\"enter your choice between {lowerBound} and {upperBound}: \"));\n",
        "      mc:int=machineChoice(lowerBound,upperBound);\n",
        "\n",
        "      if(userChoice==mc):\n",
        "        print(\"You WIN\");\n",
        "      else:\n",
        "        print(f\"Your choice is {userChoice} computer's pick is {mc} try again\");\n",
        "\n",
        "    case 2:\n",
        "      uc:str=input(\"\"\"\n",
        "      You choose RPS.\n",
        "      Pick any one of avalable options\n",
        "      r=rock\n",
        "      p=paper\n",
        "      s=scissor\n",
        "      \"\"\").lower();\n",
        "      cc:str=RPSChoise();\n",
        "\n",
        "      if(uc==cc):\n",
        "        print(f\"You WIN\");\n",
        "      else:\n",
        "        print(f\"Your choice is {uc} computer's pick is {cc} try again\");\n",
        "    case _:\n",
        "      print(\"Inavalid choice!\");\n",
        "\n",
        "  return;\n",
        "\n",
        "if(__name__==\"__main__\"):\n",
        "  main();"
      ]
    },
    {
      "cell_type": "markdown",
      "source": [],
      "metadata": {
        "id": "7R4NPrcugV_3"
      }
    },
    {
      "cell_type": "markdown",
      "source": [
        "#**PassWord Manager**\n",
        "##Encryption to be Implimented"
      ],
      "metadata": {
        "id": "27z30lcAgmXJ"
      }
    },
    {
      "cell_type": "code",
      "source": [
        "import cryptography.fernet as fnet;\n",
        "master_pwd:str=input(\"Enter the master password: \");\n",
        "\n",
        "def add(userName:str=\"\",password:str=\"\")->None:\n",
        "  with open(\"password.txt\",\"a\") as f: # opening a file with 'with' KW in append mode;\n",
        "      f.write(f\"Uname:{userName} | pass:{password} \\n\");\n",
        "      f.close(); # explicitly colsing the file as a safe measure;\n",
        "      return;\n",
        "\n",
        "def view()->None:\n",
        "  with open(\"password.txt\",\"r\") as f:\n",
        "    for line in f.readlines(): # opening a file with 'with' KW in read mode;\n",
        "      print(line.rstrip(\"\\n\"));\n",
        "    f.close(); # explicitly colsing the file as a safe measure;\n",
        "  return;\n",
        "\n",
        "def main():\n",
        "  mode:str=input(\"do you want to see the passwords or add?(0/1): \");\n",
        "  if(mode=='1'):\n",
        "    uname:str=input(\"Enter your user name: \");\n",
        "    passw:str=input(\"Enetr your password: \");\n",
        "    add(uname,passw);\n",
        "    print(\"Done!\");\n",
        "  elif(mode=='0'):\n",
        "    print(\"Existing Username and passwords are:\")\n",
        "    view();\n",
        "  else:\n",
        "    print(\"invalid!\");\n",
        "  return;\n",
        "if(__name__==\"__main__\"):\n",
        "  main();"
      ],
      "metadata": {
        "colab": {
          "base_uri": "https://localhost:8080/"
        },
        "id": "FgSHdqghaICJ",
        "outputId": "d41c9c38-6ca5-44b9-b49e-81184a82184b"
      },
      "execution_count": null,
      "outputs": [
        {
          "output_type": "stream",
          "name": "stdout",
          "text": [
            "Enter the master password: 0\n",
            "do you want to see the passwords or add?(0/1): 0\n",
            "Existing Username and passwords are:\n",
            "Uname:red9 | pass:1122 \n",
            "Uname:timmy | pass:qwefe \n",
            "Uname:eerd | pass:34223 \n"
          ]
        }
      ]
    },
    {
      "cell_type": "markdown",
      "source": [
        "##**PIG** game"
      ],
      "metadata": {
        "id": "NitC3gv63N5M"
      }
    },
    {
      "cell_type": "code",
      "source": [
        "import random\n",
        "computerScore:int=0;# Global variable\n",
        "playerScore:int=0;# Global variable\n",
        "\n",
        "def DIE()->int:\n",
        "    return random.randint(1,6);\n",
        "def whoWillStart()->int:  # 0 = computer, 1 = player\n",
        "    return random.randint(0,1);\n",
        "def computerTurn()->None:\n",
        "    global computerScore;\n",
        "    print(\"\\nComputer's turn...\");\n",
        "    while True:\n",
        "        roll=DIE();\n",
        "        print(f\"Computer rolled: {roll}\");\n",
        "        if roll==1:\n",
        "            computerScore=0;\n",
        "            print(\"Computer rolled a 1! Score reset to 0.\");\n",
        "            break;\n",
        "        else:\n",
        "            computerScore+=roll;\n",
        "            if random.randint(0,1)==0 #Computer randomly decides to stop or continue\n",
        "                print(\"Computer chooses to stop.\");\n",
        "                break;\n",
        "\n",
        "    print(f\"Computer's score: {computerScore}\");\n",
        "def playerTurn()->None:\n",
        "    global playerScore;\n",
        "    print(\"\\nYour turn...\");\n",
        "    while True:\n",
        "        roll=DIE();\n",
        "        print(f\"You rolled: {roll}\");\n",
        "        if(roll==1):\n",
        "            playerScore=0;\n",
        "            print(\"You rolled a 1! Score reset to 0.\");\n",
        "            break;\n",
        "        else:\n",
        "            playerScore+=roll;\n",
        "            choice=input(\"Do you want to roll again? (y/n): \").lower().strip()\n",
        "            if(choice!='y'):\n",
        "                break\n",
        "    print(f\"Your score: {playerScore}\")\n",
        "def play()->None:\n",
        "    starter=whoWillStart()\n",
        "    if(starter==0):\n",
        "        computerTurn();\n",
        "        playerTurn();\n",
        "    else:\n",
        "        playerTurn();\n",
        "        computerTurn();\n",
        "def main()->None:\n",
        "    print(\"\"\"Welcome to PIG game\n",
        "Rules:\n",
        "- Roll a die. The number is added to your score.\n",
        "- If you roll a 1, your score resets to 0 and your turn ends.\n",
        "- You can choose to stop rolling anytime.\n",
        "- Computer also plays by chance.\n",
        "- First to reach 50 points wins!\n",
        "    \"\"\");\n",
        "    global computerScore, playerScore;\n",
        "    while True:\n",
        "        flag:str = input(\"Do you want to play a round? (y/n): \").lower().strip();\n",
        "        if (flag=='n'):\n",
        "            print(\"Thanks for playing!\");\n",
        "            break;\n",
        "        play();\n",
        "        if(playerScore >=50):\n",
        "            print(\"\\n🎉 You win! 🎉\");\n",
        "            break;\n",
        "        elif(computerScore>=50):\n",
        "            print(\"\\n💻 Computer wins! 💻\");\n",
        "            break;\n",
        "if(__name__==\"__main__\"):\n",
        "    main();"
      ],
      "metadata": {
        "id": "IXg3NVpA1we2"
      },
      "execution_count": null,
      "outputs": []
    },
    {
      "cell_type": "code",
      "source": [],
      "metadata": {
        "id": "okCS0V7zj1qa"
      },
      "execution_count": null,
      "outputs": []
    }
  ]
}