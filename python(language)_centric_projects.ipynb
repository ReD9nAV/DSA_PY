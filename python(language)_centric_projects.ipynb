{
  "nbformat": 4,
  "nbformat_minor": 0,
  "metadata": {
    "colab": {
      "provenance": [],
      "authorship_tag": "ABX9TyMfJZSBnCv6aOptuFPM5VB5",
      "include_colab_link": true
    },
    "kernelspec": {
      "name": "python3",
      "display_name": "Python 3"
    },
    "language_info": {
      "name": "python"
    }
  },
  "cells": [
    {
      "cell_type": "markdown",
      "metadata": {
        "id": "view-in-github",
        "colab_type": "text"
      },
      "source": [
        "<a href=\"https://colab.research.google.com/github/ReD9nAV/DSA_PY/blob/main/python(language)_centric_projects.ipynb\" target=\"_parent\"><img src=\"https://colab.research.google.com/assets/colab-badge.svg\" alt=\"Open In Colab\"/></a>"
      ]
    },
    {
      "cell_type": "code",
      "execution_count": 9,
      "metadata": {
        "colab": {
          "base_uri": "https://localhost:8080/"
        },
        "id": "5tOacTLmWuXI",
        "outputId": "0935cbd0-4d7e-4d56-9037-7979badb5e81"
      },
      "outputs": [
        {
          "output_type": "stream",
          "name": "stdout",
          "text": [
            "which game you wnat to play\n",
            "              1 Guessing Game\n",
            "              2 Rock Paper scissor\n",
            "              2\n",
            "\n",
            "      You choose RPS.\n",
            "      Pick any one of avalable options\n",
            "      r=rock\n",
            "      p=paper\n",
            "      s=scissor\n",
            "      r\n",
            "Your choice is r computer's pick is s try again\n"
          ]
        }
      ],
      "source": [
        "import random;\n",
        "def machineChoice(lowerBound:int=0,upperBound:int=0)->int:\n",
        "  return random.randint(lowerBound,upperBound);\n",
        "\n",
        "def RPSChoise()->str:\n",
        "  options:list[str]=[\"r\",\"p\",\"s\"];\n",
        "  return options[random.randint(0,2)];\n",
        "\n",
        "def main()->None:\n",
        "\n",
        "  pick:int=int(input(\"\"\"which game you wnat to play\n",
        "              1 Guessing Game\n",
        "              2 Rock Paper scissor: \"\"\"));\n",
        "\n",
        "  match(pick):\n",
        "    case 1:\n",
        "      print(\"\"\"\n",
        "      You choose Gusessing Game.\n",
        "      Enter the upper and lower bounds to continue.\"\"\");\n",
        "      lowerBound:int=int(input(\"Lower bound: \"));\n",
        "      upperBound:int=int(input(\"Upper bound: \"));\n",
        "      userChoice:int=int(input(f\"enter your choice between {lowerBound} and {upperBound}: \"));\n",
        "      mc:int=machineChoice(lowerBound,upperBound);\n",
        "\n",
        "      if(userChoice==mc):\n",
        "        print(\"You WIN\");\n",
        "      else:\n",
        "        print(f\"Your choice is {userChoice} computer's pick is {mc} try again\");\n",
        "\n",
        "    case 2:\n",
        "      uc:str=input(\"\"\"\n",
        "      You choose RPS.\n",
        "      Pick any one of avalable options\n",
        "      r=rock\n",
        "      p=paper\n",
        "      s=scissor\n",
        "      \"\"\").lower();\n",
        "      mc:str=RPSChoise();\n",
        "\n",
        "      if(uc==mc):\n",
        "        print(f\"You WIN\");\n",
        "      else:\n",
        "        print(f\"Your choice is {uc} computer's pick is {mc} try again\");\n",
        "    case _:\n",
        "      print(\"Inavalid choice!\");\n",
        "\n",
        "  return;\n",
        "\n",
        "if(__name__==\"__main__\"):\n",
        "  main();"
      ]
    },
    {
      "cell_type": "markdown",
      "source": [
        "**Gaming Station**"
      ],
      "metadata": {
        "id": "n0s-GmDLg3ED"
      }
    },
    {
      "cell_type": "markdown",
      "source": [],
      "metadata": {
        "id": "7R4NPrcugV_3"
      }
    },
    {
      "cell_type": "code",
      "source": [
        "\n",
        "\n",
        "def main()->None:\n",
        "\n",
        "  return;\n",
        "if(__name__==\"__main__\"):\n",
        "  main();"
      ],
      "metadata": {
        "colab": {
          "base_uri": "https://localhost:8080/"
        },
        "id": "FgSHdqghaICJ",
        "outputId": "29dbe885-ab94-42a2-ba10-4ecd0f940b09"
      },
      "execution_count": 10,
      "outputs": [
        {
          "output_type": "stream",
          "name": "stdout",
          "text": [
            "<module 'posixpath' (frozen)>\n"
          ]
        }
      ]
    },
    {
      "cell_type": "markdown",
      "source": [
        "**PassWord Manager**"
      ],
      "metadata": {
        "id": "27z30lcAgmXJ"
      }
    }
  ]
}