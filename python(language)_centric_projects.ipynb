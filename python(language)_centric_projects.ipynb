{
  "nbformat": 4,
  "nbformat_minor": 0,
  "metadata": {
    "colab": {
      "provenance": [],
      "authorship_tag": "ABX9TyPk7r0/tsKEHiN0f4+LzYSn",
      "include_colab_link": true
    },
    "kernelspec": {
      "name": "python3",
      "display_name": "Python 3"
    },
    "language_info": {
      "name": "python"
    }
  },
  "cells": [
    {
      "cell_type": "markdown",
      "metadata": {
        "id": "view-in-github",
        "colab_type": "text"
      },
      "source": [
        "<a href=\"https://colab.research.google.com/github/ReD9nAV/DSA_PY/blob/main/python(language)_centric_projects.ipynb\" target=\"_parent\"><img src=\"https://colab.research.google.com/assets/colab-badge.svg\" alt=\"Open In Colab\"/></a>"
      ]
    },
    {
      "cell_type": "markdown",
      "source": [
        "#**Gaming Station**"
      ],
      "metadata": {
        "id": "n0s-GmDLg3ED"
      }
    },
    {
      "cell_type": "code",
      "execution_count": 3,
      "metadata": {
        "colab": {
          "base_uri": "https://localhost:8080/"
        },
        "id": "5tOacTLmWuXI",
        "outputId": "486879cb-0c81-43f9-a658-25694a1cc2d0"
      },
      "outputs": [
        {
          "output_type": "stream",
          "name": "stdout",
          "text": [
            "which game you wnat to play\n",
            "              1 Guessing Game\n",
            "              2 Rock Paper scissor: 2\n",
            "\n",
            "      You choose RPS.\n",
            "      Pick any one of avalable options\n",
            "      r=rock\n",
            "      p=paper\n",
            "      s=scissor\n",
            "      r\n",
            "Your choice is r computer's pick is p try again\n"
          ]
        }
      ],
      "source": [
        "import random;\n",
        "def machineChoice(lowerBound:int=0,upperBound:int=0)->int:\n",
        "  return random.randint(lowerBound,upperBound);\n",
        "\n",
        "def RPSChoise()->str:\n",
        "  options:list[str]=[\"r\",\"p\",\"s\"];\n",
        "  return options[random.randint(0,2)];\n",
        "\n",
        "def main()->None:\n",
        "\n",
        "  pick:int=int(input(\"\"\"which game you wnat to play\n",
        "              1 Guessing Game\n",
        "              2 Rock Paper scissor: \"\"\"));\n",
        "\n",
        "  match(pick):\n",
        "    case 1:\n",
        "      print(\"\"\"\n",
        "      You choose Gusessing Game.\n",
        "      Enter the upper and lower bounds to continue.\"\"\");\n",
        "      lowerBound:int=int(input(\"Lower bound: \"));\n",
        "      upperBound:int=int(input(\"Upper bound: \"));\n",
        "      userChoice:int=int(input(f\"enter your choice between {lowerBound} and {upperBound}: \"));\n",
        "      mc:int=machineChoice(lowerBound,upperBound);\n",
        "\n",
        "      if(userChoice==mc):\n",
        "        print(\"You WIN\");\n",
        "      else:\n",
        "        print(f\"Your choice is {userChoice} computer's pick is {mc} try again\");\n",
        "\n",
        "    case 2:\n",
        "      uc:str=input(\"\"\"\n",
        "      You choose RPS.\n",
        "      Pick any one of avalable options\n",
        "      r=rock\n",
        "      p=paper\n",
        "      s=scissor\n",
        "      \"\"\").lower();\n",
        "      cc:str=RPSChoise();\n",
        "\n",
        "      if(uc==cc):\n",
        "        print(f\"You WIN\");\n",
        "      else:\n",
        "        print(f\"Your choice is {uc} computer's pick is {cc} try again\");\n",
        "    case _:\n",
        "      print(\"Inavalid choice!\");\n",
        "\n",
        "  return;\n",
        "\n",
        "if(__name__==\"__main__\"):\n",
        "  main();"
      ]
    },
    {
      "cell_type": "markdown",
      "source": [],
      "metadata": {
        "id": "7R4NPrcugV_3"
      }
    },
    {
      "cell_type": "markdown",
      "source": [
        "#**PassWord Manager**\n",
        "##Encryption to be Implimented"
      ],
      "metadata": {
        "id": "27z30lcAgmXJ"
      }
    },
    {
      "cell_type": "code",
      "source": [
        "import cryptography.fernet as fnet;\n",
        "master_pwd:str=input(\"Enter the master password: \");\n",
        "def add(userName:str=\"\",password:str=\"\")->None:\n",
        "  with open(\"password.txt\",\"a\") as f: # opening a file with 'with' KW in append mode;\n",
        "      f.write(f\"Uname:{userName} | pass:{password} \\n\");\n",
        "      f.close(); # explicitly colsing the file as a safe measure;\n",
        "      return;\n",
        "\n",
        "def view()->None:\n",
        "  with open(\"password.txt\",\"r\") as f:\n",
        "    for line in f.readlines(): # opening a file with 'with' KW in read mode;\n",
        "      print(line.rstrip(\"\\n\"));\n",
        "    f.close(); # explicitly colsing the file as a safe measure;\n",
        "  return;\n",
        "\n",
        "def main():\n",
        "  mode:str=input(\"do you want to see the passwords or add?(0/1): \");\n",
        "\n",
        "  if(mode=='1'):\n",
        "    uname:str=input(\"Enter your user name: \");\n",
        "    passw:str=input(\"Enetr your password: \");\n",
        "    add(uname,passw);\n",
        "    print(\"Done!\");\n",
        "  elif(mode=='0'):\n",
        "    print(\"Existing Username and passwords are:\")\n",
        "    view();\n",
        "  else:\n",
        "    print(\"invalid!\");\n",
        "\n",
        "  return;\n",
        "if(__name__==\"__main__\"):\n",
        "  main();"
      ],
      "metadata": {
        "colab": {
          "base_uri": "https://localhost:8080/"
        },
        "id": "FgSHdqghaICJ",
        "outputId": "d41c9c38-6ca5-44b9-b49e-81184a82184b"
      },
      "execution_count": 22,
      "outputs": [
        {
          "output_type": "stream",
          "name": "stdout",
          "text": [
            "Enter the master password: 0\n",
            "do you want to see the passwords or add?(0/1): 0\n",
            "Existing Username and passwords are:\n",
            "Uname:red9 | pass:1122 \n",
            "Uname:timmy | pass:qwefe \n",
            "Uname:eerd | pass:34223 \n"
          ]
        }
      ]
    },
    {
      "cell_type": "markdown",
      "source": [
        "##**PIG** game"
      ],
      "metadata": {
        "id": "NitC3gv63N5M"
      }
    },
    {
      "cell_type": "code",
      "source": [
        "import random;\n",
        "\n",
        "computerScore:int=0; #Global Variables#\n",
        "playerScore:int=0;\n",
        "\n",
        "def DIE()->int:\n",
        "  return random.randint(1,6);\n",
        "def whoWillStart()->int:\n",
        "  return random.randint(0,1);\n",
        "def passOrNot()->int:\n",
        "  return random.randint(0,1);\n",
        "def play()->None:\n",
        "  pass;\n",
        "def main()->None:\n",
        "\n",
        "  print(\"\"\"\"Wecome to PIG game\n",
        "            Rules:\n",
        "            Any player who got to role the Die will roll it,\n",
        "            any number revealed by the die will be added to the respective player score.\n",
        "            The rolling of the die will continue until,\n",
        "            1-the player who rolled the die originally willingly passes the die to other player\n",
        "            2-the die awards the player with number 1 in that case the respective players score is set to 0\n",
        "              the die to passes to another player. \"\"\");\n",
        "\n",
        "\n",
        "\n",
        "  return;\n",
        "if(__name__==\"__main__\"):\n",
        "  main();"
      ],
      "metadata": {
        "id": "IXg3NVpA1we2"
      },
      "execution_count": null,
      "outputs": []
    },
    {
      "cell_type": "code",
      "source": [],
      "metadata": {
        "id": "TZBVs4C15Nmv"
      },
      "execution_count": null,
      "outputs": []
    }
  ]
}